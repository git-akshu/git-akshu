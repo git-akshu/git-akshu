{
  "nbformat": 4,
  "nbformat_minor": 0,
  "metadata": {
    "colab": {
      "provenance": [],
      "authorship_tag": "ABX9TyNFXNemHUDSH54HAK4jBxMy",
      "include_colab_link": true
    },
    "kernelspec": {
      "name": "python3",
      "display_name": "Python 3"
    },
    "language_info": {
      "name": "python"
    }
  },
  "cells": [
    {
      "cell_type": "markdown",
      "metadata": {
        "id": "view-in-github",
        "colab_type": "text"
      },
      "source": [
        "<a href=\"https://colab.research.google.com/github/git-akshu/git-akshu/blob/master/Steemer_%26_lemmatize.ipynb\" target=\"_parent\"><img src=\"https://colab.research.google.com/assets/colab-badge.svg\" alt=\"Open In Colab\"/></a>"
      ]
    },
    {
      "cell_type": "code",
      "execution_count": null,
      "metadata": {
        "id": "QeAxKXXOObDR"
      },
      "outputs": [],
      "source": [
        "article_text=\"Just what is agility in the context of software engineering work? Ivar Jacobs\"\n"
      ]
    },
    {
      "cell_type": "code",
      "source": [
        "import re\n",
        "import nltk\n",
        "from nltk.tokenize import word_tokenize\n"
      ],
      "metadata": {
        "id": "vE5UBObNO7Sj"
      },
      "execution_count": null,
      "outputs": []
    },
    {
      "cell_type": "code",
      "source": [
        "article_text = article_text.lower()\n",
        "article_text\n"
      ],
      "metadata": {
        "colab": {
          "base_uri": "https://localhost:8080/",
          "height": 36
        },
        "id": "aOMxzO5YO9v2",
        "outputId": "79acbe1a-cac0-418f-9588-37560e9c86ea"
      },
      "execution_count": null,
      "outputs": [
        {
          "output_type": "execute_result",
          "data": {
            "text/plain": [
              "'just what is agility in the context of software engineering work? ivar jacobs'"
            ],
            "application/vnd.google.colaboratory.intrinsic+json": {
              "type": "string"
            }
          },
          "metadata": {},
          "execution_count": 3
        }
      ]
    },
    {
      "cell_type": "code",
      "source": [
        "clean_text = re.sub(r'[^a-zA-Z\\s]', '', article_text)\n",
        "clean_text\n"
      ],
      "metadata": {
        "colab": {
          "base_uri": "https://localhost:8080/",
          "height": 36
        },
        "id": "yDxt4yLcPAUF",
        "outputId": "4d72baf3-03e4-476b-a2d8-4258a72b03d5"
      },
      "execution_count": null,
      "outputs": [
        {
          "output_type": "execute_result",
          "data": {
            "text/plain": [
              "'just what is agility in the context of software engineering work ivar jacobs'"
            ],
            "application/vnd.google.colaboratory.intrinsic+json": {
              "type": "string"
            }
          },
          "metadata": {},
          "execution_count": 4
        }
      ]
    },
    {
      "cell_type": "code",
      "metadata": {
        "colab": {
          "base_uri": "https://localhost:8080/"
        },
        "id": "c17e3b54",
        "outputId": "3e3e90d8-305b-4a96-aaa7-983e82049982"
      },
      "source": [
        "nltk.download('punkt_tab')"
      ],
      "execution_count": null,
      "outputs": [
        {
          "output_type": "stream",
          "name": "stderr",
          "text": [
            "[nltk_data] Downloading package punkt_tab to /root/nltk_data...\n",
            "[nltk_data]   Unzipping tokenizers/punkt_tab.zip.\n"
          ]
        },
        {
          "output_type": "execute_result",
          "data": {
            "text/plain": [
              "True"
            ]
          },
          "metadata": {},
          "execution_count": 6
        }
      ]
    },
    {
      "cell_type": "code",
      "source": [
        "sentence_list = nltk.sent_tokenize(article_text)\n",
        "sentence_list\n"
      ],
      "metadata": {
        "colab": {
          "base_uri": "https://localhost:8080/"
        },
        "id": "3yDStlQBPVO_",
        "outputId": "46462aa6-117e-4dde-cbb2-6a3fe9a95e2a"
      },
      "execution_count": null,
      "outputs": [
        {
          "output_type": "execute_result",
          "data": {
            "text/plain": [
              "['just what is agility in the context of software engineering work?',\n",
              " 'ivar jacobs']"
            ]
          },
          "metadata": {},
          "execution_count": 8
        }
      ]
    },
    {
      "cell_type": "code",
      "source": [
        "tokens = word_tokenize(clean_text)\n",
        "tokens\n"
      ],
      "metadata": {
        "colab": {
          "base_uri": "https://localhost:8080/"
        },
        "id": "FOHci4M3PZv-",
        "outputId": "bd1ea6f8-ff7b-456c-ece5-8044429f9e13"
      },
      "execution_count": null,
      "outputs": [
        {
          "output_type": "execute_result",
          "data": {
            "text/plain": [
              "['just',\n",
              " 'what',\n",
              " 'is',\n",
              " 'agility',\n",
              " 'in',\n",
              " 'the',\n",
              " 'context',\n",
              " 'of',\n",
              " 'software',\n",
              " 'engineering',\n",
              " 'work',\n",
              " 'ivar',\n",
              " 'jacobs']"
            ]
          },
          "metadata": {},
          "execution_count": 9
        }
      ]
    },
    {
      "cell_type": "code",
      "source": [
        "nltk.download('stopwords')  # Download stopwords dataset\n",
        "from nltk.corpus import stopwords\n",
        "stop_words = set(stopwords.words('english'))\n"
      ],
      "metadata": {
        "colab": {
          "base_uri": "https://localhost:8080/"
        },
        "id": "B8_gjGUpPcx3",
        "outputId": "d3aba2d8-61ee-46d1-ccdc-2ec5e767ba27"
      },
      "execution_count": null,
      "outputs": [
        {
          "output_type": "stream",
          "name": "stderr",
          "text": [
            "[nltk_data] Downloading package stopwords to /root/nltk_data...\n",
            "[nltk_data]   Unzipping corpora/stopwords.zip.\n"
          ]
        }
      ]
    },
    {
      "cell_type": "code",
      "source": [
        "word_frequencies = {}\n",
        "for word in tokens:\n",
        "    if word not in stop_words:\n",
        "        if word not in word_frequencies:\n",
        "            word_frequencies[word] = 1\n",
        "        else:\n",
        "            word_frequencies[word] += 1\n",
        "word_frequencies\n"
      ],
      "metadata": {
        "colab": {
          "base_uri": "https://localhost:8080/"
        },
        "id": "2F291kyaPfu3",
        "outputId": "b41e05cc-adef-47c1-eba2-778e07659442"
      },
      "execution_count": null,
      "outputs": [
        {
          "output_type": "execute_result",
          "data": {
            "text/plain": [
              "{'agility': 1,\n",
              " 'context': 1,\n",
              " 'software': 1,\n",
              " 'engineering': 1,\n",
              " 'work': 1,\n",
              " 'ivar': 1,\n",
              " 'jacobs': 1}"
            ]
          },
          "metadata": {},
          "execution_count": 11
        }
      ]
    },
    {
      "cell_type": "code",
      "source": [
        "from collections import Counter\n",
        "dictionary = Counter(word_frequencies)\n",
        "dictionary\n"
      ],
      "metadata": {
        "colab": {
          "base_uri": "https://localhost:8080/"
        },
        "id": "nkVJdhmxPik4",
        "outputId": "73447d62-904c-42d9-dc1d-1a0d195da2c4"
      },
      "execution_count": null,
      "outputs": [
        {
          "output_type": "execute_result",
          "data": {
            "text/plain": [
              "Counter({'agility': 1,\n",
              "         'context': 1,\n",
              "         'software': 1,\n",
              "         'engineering': 1,\n",
              "         'work': 1,\n",
              "         'ivar': 1,\n",
              "         'jacobs': 1})"
            ]
          },
          "metadata": {},
          "execution_count": 12
        }
      ]
    },
    {
      "cell_type": "code",
      "source": [
        "from nltk.stem import PorterStemmer\n",
        "from nltk.stem import LancasterStemmer\n"
      ],
      "metadata": {
        "id": "WitArruHPlnD"
      },
      "execution_count": null,
      "outputs": []
    },
    {
      "cell_type": "code",
      "source": [
        "porter = PorterStemmer()\n",
        "lancaster = LancasterStemmer()\n",
        "\n",
        "print(porter.stem(\"cats\"))\n",
        "print(lancaster.stem(\"cats\"))\n",
        "print(porter.stem(\"troubling\"))\n",
        "print(lancaster.stem(\"troubling\"))\n",
        "print(porter.stem(\"troubled\"))\n",
        "print(lancaster.stem(\"troubled\"))\n"
      ],
      "metadata": {
        "colab": {
          "base_uri": "https://localhost:8080/"
        },
        "id": "57PBXy8PPpQg",
        "outputId": "43b53ed1-a4a2-4cf3-9e4a-eeec8aed1e4b"
      },
      "execution_count": null,
      "outputs": [
        {
          "output_type": "stream",
          "name": "stdout",
          "text": [
            "cat\n",
            "cat\n",
            "troubl\n",
            "troubl\n",
            "troubl\n",
            "troubl\n"
          ]
        }
      ]
    },
    {
      "cell_type": "code",
      "source": [
        "word_list = [\"friend\", \"friendship\", \"friends\", \"friendships\", \"stabil\", \"destabilize\"]\n",
        "print(\"{:20}{:20}{:20}\".format(\"Word\", \"Porter Stemmer\", \"Lancaster Stemmer\"))\n",
        "for word in word_list:\n",
        "    print(\"{:20}{:20}{:20}\".format(word, porter.stem(word), lancaster.stem(word)))\n"
      ],
      "metadata": {
        "colab": {
          "base_uri": "https://localhost:8080/"
        },
        "id": "g-DwxyTIPsu5",
        "outputId": "44472411-06c5-4a8a-9848-c3908247d64d"
      },
      "execution_count": null,
      "outputs": [
        {
          "output_type": "stream",
          "name": "stdout",
          "text": [
            "Word                Porter Stemmer      Lancaster Stemmer   \n",
            "friend              friend              friend              \n",
            "friendship          friendship          friend              \n",
            "friends             friend              friend              \n",
            "friendships         friendship          friend              \n",
            "stabil              stabil              stabl               \n",
            "destabilize         destabil            dest                \n"
          ]
        }
      ]
    },
    {
      "cell_type": "code",
      "source": [
        "stem_sentence = []\n",
        "for word in tokens:\n",
        "    stem_sentence.append(porter.stem(word))\n",
        "    stem_sentence.append(\" \")\n",
        "stem_sentence\n"
      ],
      "metadata": {
        "colab": {
          "base_uri": "https://localhost:8080/"
        },
        "id": "WOZwGfA3PwUW",
        "outputId": "d78461fb-4037-4851-ad81-6b2a80831ffb"
      },
      "execution_count": null,
      "outputs": [
        {
          "output_type": "execute_result",
          "data": {
            "text/plain": [
              "['just',\n",
              " ' ',\n",
              " 'what',\n",
              " ' ',\n",
              " 'is',\n",
              " ' ',\n",
              " 'agil',\n",
              " ' ',\n",
              " 'in',\n",
              " ' ',\n",
              " 'the',\n",
              " ' ',\n",
              " 'context',\n",
              " ' ',\n",
              " 'of',\n",
              " ' ',\n",
              " 'softwar',\n",
              " ' ',\n",
              " 'engin',\n",
              " ' ',\n",
              " 'work',\n",
              " ' ',\n",
              " 'ivar',\n",
              " ' ',\n",
              " 'jacob',\n",
              " ' ']"
            ]
          },
          "metadata": {},
          "execution_count": 17
        }
      ]
    },
    {
      "cell_type": "code",
      "source": [
        "from nltk.stem import WordNetLemmatizer\n",
        "lemmatizer = WordNetLemmatizer()\n"
      ],
      "metadata": {
        "id": "1SjJURm-Pzox"
      },
      "execution_count": null,
      "outputs": []
    },
    {
      "cell_type": "code",
      "source": [
        "import nltk\n",
        "nltk.download('wordnet')\n"
      ],
      "metadata": {
        "colab": {
          "base_uri": "https://localhost:8080/"
        },
        "id": "62q80LFuP2BC",
        "outputId": "1163a985-f416-4713-caf4-70d37232747e"
      },
      "execution_count": null,
      "outputs": [
        {
          "output_type": "stream",
          "name": "stderr",
          "text": [
            "[nltk_data] Downloading package wordnet to /root/nltk_data...\n"
          ]
        },
        {
          "output_type": "execute_result",
          "data": {
            "text/plain": [
              "True"
            ]
          },
          "metadata": {},
          "execution_count": 19
        }
      ]
    },
    {
      "cell_type": "code",
      "source": [
        "def lemmatize_word(word):\n",
        "    return lemmatizer.lemmatize(word)\n"
      ],
      "metadata": {
        "id": "FDB85DNRP4hq"
      },
      "execution_count": null,
      "outputs": []
    },
    {
      "cell_type": "code",
      "source": [
        "word_list = [\"word1\", \"word2\", \"word3\"]\n",
        "print(\"{:20}{:20}\".format(\"Word\", \"Lemma\"))\n",
        "for word in word_list:\n",
        "    print(\"{:20}{:20}\".format(word, lemmatize_word(word)))\n"
      ],
      "metadata": {
        "colab": {
          "base_uri": "https://localhost:8080/"
        },
        "id": "z0chNY1SP7Lh",
        "outputId": "bf153f88-0eae-411e-b517-feb5e418cf90"
      },
      "execution_count": null,
      "outputs": [
        {
          "output_type": "stream",
          "name": "stdout",
          "text": [
            "Word                Lemma               \n",
            "word1               word1               \n",
            "word2               word2               \n",
            "word3               word3               \n"
          ]
        }
      ]
    }
  ]
}