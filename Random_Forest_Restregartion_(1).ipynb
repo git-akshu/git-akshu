{
  "cells": [
    {
      "cell_type": "markdown",
      "metadata": {
        "id": "view-in-github",
        "colab_type": "text"
      },
      "source": [
        "<a href=\"https://colab.research.google.com/github/git-akshu/git-akshu/blob/master/Random_Forest_Restregartion_(1).ipynb\" target=\"_parent\"><img src=\"https://colab.research.google.com/assets/colab-badge.svg\" alt=\"Open In Colab\"/></a>"
      ]
    },
    {
      "cell_type": "code",
      "execution_count": null,
      "id": "5d3abbbf-d6e3-4e9b-8678-72bc99cd9b55",
      "metadata": {
        "id": "5d3abbbf-d6e3-4e9b-8678-72bc99cd9b55",
        "outputId": "8fdc0854-fb52-4700-bdf3-1fb40fa4ceb5"
      },
      "outputs": [
        {
          "name": "stdout",
          "output_type": "stream",
          "text": [
            "   Unnamed: 0     crim    zn  indus  chas    nox     rm   age     dis  rad  \\\n",
            "0           0  0.00632  18.0   2.31     0  0.538  6.575  65.2  4.0900    1   \n",
            "1           1  0.02731   0.0   7.07     0  0.469  6.421  78.9  4.9671    2   \n",
            "2           2  0.02729   0.0   7.07     0  0.469  7.185  61.1  4.9671    2   \n",
            "3           3  0.03237   0.0   2.18     0  0.458  6.998  45.8  6.0622    3   \n",
            "4           4  0.06905   0.0   2.18     0  0.458  7.147  54.2  6.0622    3   \n",
            "\n",
            "   tax  ptratio   black  lstat  medv  \n",
            "0  296     15.3  396.90   4.98  24.0  \n",
            "1  242     17.8  396.90   9.14  21.6  \n",
            "2  242     17.8  392.83   4.03  34.7  \n",
            "3  222     18.7  394.63   2.94  33.4  \n",
            "4  222     18.7  396.90   5.33  36.2  \n"
          ]
        },
        {
          "data": {
            "image/png": "[encoded data removed]",
            "text/plain": [
              "<Figure size 640x480 with 1 Axes>"
            ]
          },
          "metadata": {},
          "output_type": "display_data"
        }
      ],
      "source": [
        "import pandas as pd\n",
        "import matplotlib.pyplot as plt\n",
        "\n",
        "df = pd.read_csv('Boston.csv')\n",
        "\n",
        "# Display first few rows of the dataframe\n",
        "print(df.head())\n",
        "\n",
        "# Plotting the histogram\n",
        "plt.hist(df['nox'], bins=10)\n",
        "plt.xlabel('NOx Levels')\n",
        "plt.ylabel('Frequency')\n",
        "plt.title('Histogram of NOx Levels')\n",
        "plt.show()\n"
      ]
    },
    {
      "cell_type": "code",
      "execution_count": null,
      "id": "24dfd851-9200-441b-975b-508f09158008",
      "metadata": {
        "id": "24dfd851-9200-441b-975b-508f09158008",
        "outputId": "8b7f8a78-4b29-4ee4-823b-7f0c79101e1f"
      },
      "outputs": [
        {
          "data": {
            "text/html": [
              "<div>\n",
              "<style scoped>\n",
              "    .dataframe tbody tr th:only-of-type {\n",
              "        vertical-align: middle;\n",
              "    }\n",
              "\n",
              "    .dataframe tbody tr th {\n",
              "        vertical-align: top;\n",
              "    }\n",
              "\n",
              "    .dataframe thead th {\n",
              "        text-align: right;\n",
              "    }\n",
              "</style>\n",
              "<table border=\"1\" class=\"dataframe\">\n",
              "  <thead>\n",
              "    <tr style=\"text-align: right;\">\n",
              "      <th></th>\n",
              "      <th>Unnamed: 0</th>\n",
              "      <th>crim</th>\n",
              "      <th>zn</th>\n",
              "      <th>indus</th>\n",
              "      <th>chas</th>\n",
              "      <th>nox</th>\n",
              "      <th>rm</th>\n",
              "      <th>age</th>\n",
              "      <th>dis</th>\n",
              "      <th>rad</th>\n",
              "      <th>tax</th>\n",
              "      <th>ptratio</th>\n",
              "      <th>black</th>\n",
              "      <th>lstat</th>\n",
              "      <th>medv</th>\n",
              "    </tr>\n",
              "  </thead>\n",
              "  <tbody>\n",
              "    <tr>\n",
              "      <th>0</th>\n",
              "      <td>0</td>\n",
              "      <td>0.00632</td>\n",
              "      <td>18.0</td>\n",
              "      <td>2.31</td>\n",
              "      <td>0</td>\n",
              "      <td>0.538</td>\n",
              "      <td>6.575</td>\n",
              "      <td>65.2</td>\n",
              "      <td>4.0900</td>\n",
              "      <td>1</td>\n",
              "      <td>296</td>\n",
              "      <td>15.3</td>\n",
              "      <td>396.90</td>\n",
              "      <td>4.98</td>\n",
              "      <td>24.0</td>\n",
              "    </tr>\n",
              "    <tr>\n",
              "      <th>1</th>\n",
              "      <td>1</td>\n",
              "      <td>0.02731</td>\n",
              "      <td>0.0</td>\n",
              "      <td>7.07</td>\n",
              "      <td>0</td>\n",
              "      <td>0.469</td>\n",
              "      <td>6.421</td>\n",
              "      <td>78.9</td>\n",
              "      <td>4.9671</td>\n",
              "      <td>2</td>\n",
              "      <td>242</td>\n",
              "      <td>17.8</td>\n",
              "      <td>396.90</td>\n",
              "      <td>9.14</td>\n",
              "      <td>21.6</td>\n",
              "    </tr>\n",
              "    <tr>\n",
              "      <th>2</th>\n",
              "      <td>2</td>\n",
              "      <td>0.02729</td>\n",
              "      <td>0.0</td>\n",
              "      <td>7.07</td>\n",
              "      <td>0</td>\n",
              "      <td>0.469</td>\n",
              "      <td>7.185</td>\n",
              "      <td>61.1</td>\n",
              "      <td>4.9671</td>\n",
              "      <td>2</td>\n",
              "      <td>242</td>\n",
              "      <td>17.8</td>\n",
              "      <td>392.83</td>\n",
              "      <td>4.03</td>\n",
              "      <td>34.7</td>\n",
              "    </tr>\n",
              "    <tr>\n",
              "      <th>3</th>\n",
              "      <td>3</td>\n",
              "      <td>0.03237</td>\n",
              "      <td>0.0</td>\n",
              "      <td>2.18</td>\n",
              "      <td>0</td>\n",
              "      <td>0.458</td>\n",
              "      <td>6.998</td>\n",
              "      <td>45.8</td>\n",
              "      <td>6.0622</td>\n",
              "      <td>3</td>\n",
              "      <td>222</td>\n",
              "      <td>18.7</td>\n",
              "      <td>394.63</td>\n",
              "      <td>2.94</td>\n",
              "      <td>33.4</td>\n",
              "    </tr>\n",
              "    <tr>\n",
              "      <th>4</th>\n",
              "      <td>4</td>\n",
              "      <td>0.06905</td>\n",
              "      <td>0.0</td>\n",
              "      <td>2.18</td>\n",
              "      <td>0</td>\n",
              "      <td>0.458</td>\n",
              "      <td>7.147</td>\n",
              "      <td>54.2</td>\n",
              "      <td>6.0622</td>\n",
              "      <td>3</td>\n",
              "      <td>222</td>\n",
              "      <td>18.7</td>\n",
              "      <td>396.90</td>\n",
              "      <td>5.33</td>\n",
              "      <td>36.2</td>\n",
              "    </tr>\n",
              "  </tbody>\n",
              "</table>\n",
              "</div>"
            ],
            "text/plain": [
              "   Unnamed: 0     crim    zn  indus  chas    nox     rm   age     dis  rad  \\\n",
              "0           0  0.00632  18.0   2.31     0  0.538  6.575  65.2  4.0900    1   \n",
              "1           1  0.02731   0.0   7.07     0  0.469  6.421  78.9  4.9671    2   \n",
              "2           2  0.02729   0.0   7.07     0  0.469  7.185  61.1  4.9671    2   \n",
              "3           3  0.03237   0.0   2.18     0  0.458  6.998  45.8  6.0622    3   \n",
              "4           4  0.06905   0.0   2.18     0  0.458  7.147  54.2  6.0622    3   \n",
              "\n",
              "   tax  ptratio   black  lstat  medv  \n",
              "0  296     15.3  396.90   4.98  24.0  \n",
              "1  242     17.8  396.90   9.14  21.6  \n",
              "2  242     17.8  392.83   4.03  34.7  \n",
              "3  222     18.7  394.63   2.94  33.4  \n",
              "4  222     18.7  396.90   5.33  36.2  "
            ]
          },
          "execution_count": 2,
          "metadata": {},
          "output_type": "execute_result"
        }
      ],
      "source": [
        "import pandas as pd\n",
        "import numpy as np\n",
        "\n",
        "dataset = pd.read_csv('Boston.csv')\n",
        "\n",
        "# Display the first few rows\n",
        "dataset.head()\n"
      ]
    },
    {
      "cell_type": "code",
      "execution_count": null,
      "id": "cc3c728d-5e24-4dc1-9c6d-39e05a9056f8",
      "metadata": {
        "id": "cc3c728d-5e24-4dc1-9c6d-39e05a9056f8"
      },
      "outputs": [],
      "source": [
        "X = pd.DataFrame(dataset.iloc[:, :-1])  # Features (all columns except last)\n",
        "Y = pd.DataFrame(dataset.iloc[:, -1])   # Target (last column)\n"
      ]
    },
    {
      "cell_type": "code",
      "execution_count": null,
      "id": "9bb4226f-28ec-4d95-8f7c-9b7ea43a5182",
      "metadata": {
        "id": "9bb4226f-28ec-4d95-8f7c-9b7ea43a5182"
      },
      "outputs": [],
      "source": [
        "from sklearn.model_selection import train_test_split\n",
        "\n",
        "X_train, X_test, Y_train, Y_test = train_test_split(X, Y, test_size=0.2)\n"
      ]
    },
    {
      "cell_type": "code",
      "execution_count": null,
      "id": "584df202-4e49-4dcb-9edf-44b4383f6bf7",
      "metadata": {
        "id": "584df202-4e49-4dcb-9edf-44b4383f6bf7",
        "outputId": "c760e0a1-1ab5-4570-ef26-74f6ac7a0b1b"
      },
      "outputs": [
        {
          "name": "stderr",
          "output_type": "stream",
          "text": [
            "C:\\Users\\dhanu\\anaconda3\\Lib\\site-packages\\sklearn\\base.py:1474: DataConversionWarning: A column-vector y was passed when a 1d array was expected. Please change the shape of y to (n_samples,), for example using ravel().\n",
            "  return fit_method(estimator, *args, **kwargs)\n"
          ]
        }
      ],
      "source": [
        "from sklearn.ensemble import RandomForestRegressor\n",
        "\n",
        "regressor = RandomForestRegressor(n_estimators=20, random_state=0)\n",
        "regressor.fit(X_train, Y_train)\n",
        "\n",
        "Y_pred = regressor.predict(X_test)\n"
      ]
    },
    {
      "cell_type": "code",
      "execution_count": null,
      "id": "d36bed95-1890-4861-8843-6a31bfe47fac",
      "metadata": {
        "id": "d36bed95-1890-4861-8843-6a31bfe47fac",
        "outputId": "14729b40-4059-4de5-c89a-a37bdcea9bbe"
      },
      "outputs": [
        {
          "name": "stdout",
          "output_type": "stream",
          "text": [
            "Mean Absolute Error: 9.589999999999996\n",
            "Mean Squared Error: 91.96809999999994\n",
            "Root Mean Squared Error: 9.589999999999996\n"
          ]
        }
      ],
      "source": [
        "from sklearn import metrics\n",
        "\n",
        "print(\"Mean Absolute Error:\", metrics.mean_absolute_error(Y_test, Y_pred))\n",
        "print(\"Mean Squared Error:\", metrics.mean_squared_error(Y_test, Y_pred))\n",
        "print(\"Root Mean Squared Error:\", np.sqrt(metrics.mean_squared_error(Y_test, Y_pred)))\n"
      ]
    }
  ],
  "metadata": {
    "kernelspec": {
      "display_name": "Python 3 (ipykernel)",
      "language": "python",
      "name": "python3"
    },
    "language_info": {
      "codemirror_mode": {
        "name": "ipython",
        "version": 3
      },
      "file_extension": ".py",
      "mimetype": "text/x-python",
      "name": "python",
      "nbconvert_exporter": "python",
      "pygments_lexer": "ipython3",
      "version": "3.11.7"
    },
    "colab": {
      "provenance": [],
      "include_colab_link": true
    }
  },
  "nbformat": 4,
  "nbformat_minor": 5
}